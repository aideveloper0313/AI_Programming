{
 "cells": [
  {
   "cell_type": "code",
   "execution_count": 1,
   "id": "902756bc-267a-4847-825e-ca123224ceaf",
   "metadata": {},
   "outputs": [
    {
     "name": "stdout",
     "output_type": "stream",
     "text": [
      "KOREA POLYTECHNICS\n",
      "\n",
      "한국 폴리텍대학\n"
     ]
    }
   ],
   "source": [
    "print(\"KOREA POLYTECHNICS\")\n",
    "print()\n",
    "print(\"한국 폴리텍대학\")"
   ]
  },
  {
   "cell_type": "code",
   "execution_count": 2,
   "id": "01ab84ab-edb2-4909-80ad-95ada2625022",
   "metadata": {},
   "outputs": [
    {
     "ename": "SyntaxError",
     "evalue": "invalid syntax (3750264290.py, line 1)",
     "output_type": "error",
     "traceback": [
      "\u001b[1;36m  File \u001b[1;32m\"C:\\Users\\user16\\AppData\\Local\\Temp\\ipykernel_9536\\3750264290.py\"\u001b[1;36m, line \u001b[1;32m1\u001b[0m\n\u001b[1;33m    print(\"KOREA POLYTECHNICS은 \"한국폴리텍대학\"입니다.\"\u001b[0m\n\u001b[1;37m                                ^\u001b[0m\n\u001b[1;31mSyntaxError\u001b[0m\u001b[1;31m:\u001b[0m invalid syntax\n"
     ]
    }
   ],
   "source": [
    "print(\"KOREA POLYTECHNICS은 \"한국폴리텍대학\"입니다.\"\n",
    "print(\"KOREA POLYTECHNICS은 '한국폴리텍대학'입니다.\""
   ]
  },
  {
   "cell_type": "code",
   "execution_count": 3,
   "id": "912b6fc7-6df5-47c4-a0ce-680c0dfe4ad2",
   "metadata": {},
   "outputs": [
    {
     "ename": "SyntaxError",
     "evalue": "invalid syntax (2664332299.py, line 2)",
     "output_type": "error",
     "traceback": [
      "\u001b[1;36m  File \u001b[1;32m\"C:\\Users\\user16\\AppData\\Local\\Temp\\ipykernel_9536\\2664332299.py\"\u001b[1;36m, line \u001b[1;32m2\u001b[0m\n\u001b[1;33m    print('KOREA POLYTECHNICS은 \"한국폴리텍대학\"입니다.'\u001b[0m\n\u001b[1;37m    ^\u001b[0m\n\u001b[1;31mSyntaxError\u001b[0m\u001b[1;31m:\u001b[0m invalid syntax\n"
     ]
    }
   ],
   "source": [
    "print(\"KOREA POLYTECHNICS은 '한국폴리텍대학'입니다.\"\n",
    "print('KOREA POLYTECHNICS은 \"한국폴리텍대학\"입니다.'"
   ]
  },
  {
   "cell_type": "code",
   "execution_count": 4,
   "id": "1d315126-9d92-4529-8f5e-9e1b838ed2ee",
   "metadata": {},
   "outputs": [
    {
     "name": "stdout",
     "output_type": "stream",
     "text": [
      "KOREA POLYTECHNICS은 '한국폴리텍대학'입니다.\n",
      "KOREA POLYTECHNICS은 \"한국폴리텍대학\"입니다.\n"
     ]
    }
   ],
   "source": [
    "print(\"KOREA POLYTECHNICS은 '한국폴리텍대학'입니다.\")\n",
    "print('KOREA POLYTECHNICS은 \"한국폴리텍대학\"입니다.')"
   ]
  },
  {
   "cell_type": "code",
   "execution_count": 5,
   "id": "e4041472-ed46-4078-8f04-6bd3b9aafecd",
   "metadata": {},
   "outputs": [
    {
     "name": "stdout",
     "output_type": "stream",
     "text": [
      "14\n",
      "0\n",
      "49\n",
      "1.0\n"
     ]
    }
   ],
   "source": [
    "print(7+7)\n",
    "print(7-7)\n",
    "print(7*7)\n",
    "print(7/7)"
   ]
  },
  {
   "cell_type": "code",
   "execution_count": null,
   "id": "4775c7da-5207-4a70-a1f3-7bdb8a7a84b0",
   "metadata": {},
   "outputs": [],
   "source": []
  }
 ],
 "metadata": {
  "kernelspec": {
   "display_name": "Python 3 (ipykernel)",
   "language": "python",
   "name": "python3"
  },
  "language_info": {
   "codemirror_mode": {
    "name": "ipython",
    "version": 3
   },
   "file_extension": ".py",
   "mimetype": "text/x-python",
   "name": "python",
   "nbconvert_exporter": "python",
   "pygments_lexer": "ipython3",
   "version": "3.9.13"
  }
 },
 "nbformat": 4,
 "nbformat_minor": 5
}
